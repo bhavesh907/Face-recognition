{
 "cells": [
  {
   "cell_type": "code",
   "execution_count": 1,
   "metadata": {},
   "outputs": [
    {
     "name": "stderr",
     "output_type": "stream",
     "text": [
      "Using TensorFlow backend.\n"
     ]
    }
   ],
   "source": [
    "from keras.models import Sequential\n",
    "from keras.layers import Conv2D, ZeroPadding2D, Activation, Input, concatenate\n",
    "from keras.models import Model\n",
    "from keras.layers.normalization import BatchNormalization\n",
    "from keras.layers.pooling import MaxPooling2D, AveragePooling2D\n",
    "from keras.layers.merge import Concatenate\n",
    "from keras.layers.core import Lambda, Flatten, Dense\n",
    "from keras.engine.topology import Layer\n",
    "from keras import backend as K\n",
    "import cv2\n",
    "import os\n",
    "import numpy as np\n",
    "from numpy import genfromtxt\n",
    "import pandas as pd\n",
    "import tensorflow as tf\n",
    "from utils import LRN2D\n",
    "import utils\n",
    "import csv\n",
    "import os\n",
    "import numpy as np\n",
    "import copy\n",
    "from matplotlib.pyplot import imread\n",
    "from scipy.spatial.distance import cdist\n",
    "import matplotlib.pyplot as plt\n",
    "\n",
    "#Environment that evaluates operations immediately without creating graphs\n",
    "# tf.enable_eager_execution()\n",
    "\n",
    "keras = tf.keras\n",
    "\n",
    "\n",
    "%load_ext autoreload\n",
    "%autoreload 2\n",
    "\n",
    "np.set_printoptions(threshold=np.nan)"
   ]
  },
  {
   "cell_type": "code",
   "execution_count": 2,
   "metadata": {},
   "outputs": [],
   "source": [
    "def label_map(x):\n",
    "    if len(x)==3:\n",
    "        return 1\n",
    "    else:\n",
    "        return 0"
   ]
  },
  {
   "cell_type": "code",
   "execution_count": 3,
   "metadata": {},
   "outputs": [],
   "source": [
    "def paths(x,path):\n",
    "    if len(x)==3:\n",
    "        classpath = path+'/'+x[0]\n",
    "#         print(classpath)\n",
    "\n",
    "        #Image path 1\n",
    "        \n",
    "        if len(str(x[1]))==1:\n",
    "            imagepath1 = classpath+'/'+x[0]+'_'+'000'+str(x[1])+'.jpg'\n",
    "#             print(imagepath1)\n",
    "        \n",
    "        elif len(str(x[1]))==2:\n",
    "            imagepath1 = classpath+'/'+x[0]+'_'+'00'+str(x[1])+'.jpg'\n",
    "#             print(imagepath1)\n",
    "        else:\n",
    "            imagepath1 = classpath+'/'+x[0]+'_'+'0'+str(x[1])+'.jpg'\n",
    "#             print(imagepath1)\n",
    "            \n",
    "        #image path 2\n",
    "            \n",
    "        if len(str(x[2]))==1:   \n",
    "            imagepath2 = classpath+'/'+x[0]+'_'+'000'+str(x[2])+'.jpg' \n",
    "#             print(imagepath2)\n",
    "        elif len(str(x[2]))==2:\n",
    "            imagepath2 = classpath+'/'+x[0]+'_'+'00'+str(x[2])+'.jpg' \n",
    "#             print(imagepath2)        \n",
    "        else:\n",
    "            imagepath2 = classpath+'/'+x[0]+'_'+'0'+str(x[2])+'.jpg' \n",
    "#             print(imagepath2)          \n",
    "            \n",
    "        return (imagepath1,imagepath2)\n",
    "    else:\n",
    "        classpath1 = path+'/'+x[0]\n",
    "#         print(classpath1)\n",
    "        \n",
    "        #image path 1\n",
    "        \n",
    "        if len(str(x[1]))==1:            \n",
    "            imagepath1 = classpath1+'/'+x[0]+'_'+'000'+str(x[1])+'.jpg'\n",
    "#             print(imagepath1)\n",
    "        elif len(str(x[1]))==2:\n",
    "            imagepath1 = classpath1+'/'+x[0]+'_'+'00'+str(x[1])+'.jpg'\n",
    "#             print(imagepath1)            \n",
    "        else:\n",
    "            imagepath1 = classpath1+'/'+x[0]+'_'+'0'+str(x[1])+'.jpg'\n",
    "#             print(imagepath1)    \n",
    "        \n",
    "        #image path 2\n",
    "        \n",
    "        classpath2 = path+'/'+x[2]\n",
    "#         print(classpath2)        \n",
    "        \n",
    "        if len(str(x[3]))==1:\n",
    "            imagepath2 = classpath2+'/'+x[2]+'_'+'000'+str(x[3])+'.jpg'\n",
    "#             print(imagepath2)\n",
    "        elif len(str(x[3]))==2:\n",
    "            imagepath2 = classpath2+'/'+x[2]+'_'+'00'+str(x[3])+'.jpg'\n",
    "#             print(imagepath2)            \n",
    "        else:\n",
    "            imagepath2 = classpath2+'/'+x[2]+'_'+'0'+str(x[3])+'.jpg'\n",
    "#             print(imagepath2)\n",
    "        \n",
    "        return (imagepath1,imagepath2)"
   ]
  },
  {
   "cell_type": "code",
   "execution_count": 4,
   "metadata": {},
   "outputs": [],
   "source": [
    "def dataconv(csv = 'pairsDevTrain.txt',path = '/home/monster/Gitprojects/nanonets/lfw_funneled'):\n",
    "    data = pd.read_csv(csv)\n",
    "#     print(data.columns)\n",
    "    data['list'] = data[data.columns[0]].map(lambda x : x.split('\\t'))\n",
    "    data['label'] = data.list.map(lambda x : label_map(x))\n",
    "    data['paths'] = ''\n",
    "    data['paths'] = data.list.map(lambda x : paths(x,path))\n",
    "    \n",
    "    input1 = []\n",
    "    input2 = []\n",
    "\n",
    "    for i,n in enumerate(data.list):\n",
    "#         print(i,n)\n",
    "        img1 = imread(data.iloc[i,3][0])\n",
    "        inp1 = cv2.resize(img1,(96,96))\n",
    "\n",
    "        img2 = imread(data.iloc[i,3][1])\n",
    "        inp2 = cv2.resize(img2,(96,96))\n",
    "\n",
    "        input1.append(inp1)\n",
    "        input2.append(inp2)\n",
    "    \n",
    "    y_train = []\n",
    "\n",
    "    for i,n in enumerate(data.label):\n",
    "#         print(i,n)\n",
    "        y1 = np.array(n).reshape(1,1)\n",
    "        y_train.append(y1)\n",
    "    \n",
    "    y_train = np.array(y_train)\n",
    "    \n",
    "    return np.array(input1),np.array(input2),y_train"
   ]
  },
  {
   "cell_type": "code",
   "execution_count": 5,
   "metadata": {},
   "outputs": [],
   "source": [
    "train_input1,train_input2,y_train = dataconv(csv = 'pairsDevTrain.txt',path = '/home/monster/Gitprojects/nanonets/lfw_funneled')\n",
    "\n",
    "test_input1,test_input2,y_test = dataconv(csv = 'pairsDevTest.txt',path = '/home/monster/Gitprojects/nanonets/lfw_funneled')"
   ]
  },
  {
   "cell_type": "code",
   "execution_count": 6,
   "metadata": {},
   "outputs": [
    {
     "data": {
      "text/plain": [
       "((2200, 96, 96, 3), (2200, 96, 96, 3), (2200, 1, 1))"
      ]
     },
     "execution_count": 6,
     "metadata": {},
     "output_type": "execute_result"
    }
   ],
   "source": [
    "train_input1.shape,train_input2.shape,y_train.shape"
   ]
  },
  {
   "cell_type": "code",
   "execution_count": 7,
   "metadata": {},
   "outputs": [
    {
     "data": {
      "text/plain": [
       "((1000, 96, 96, 3), (1000, 96, 96, 3), (1000, 1, 1))"
      ]
     },
     "execution_count": 7,
     "metadata": {},
     "output_type": "execute_result"
    }
   ],
   "source": [
    "test_input1.shape,test_input2.shape,y_test.shape"
   ]
  },
  {
   "cell_type": "code",
   "execution_count": 8,
   "metadata": {},
   "outputs": [],
   "source": [
    "def convonet():\n",
    "        myInput = Input(shape=(96, 96, 3))\n",
    "\n",
    "        x = ZeroPadding2D(padding=(3, 3), input_shape=(96, 96, 3))(myInput)\n",
    "        x = Conv2D(64, (7, 7), strides=(2, 2), name='conv1')(x)\n",
    "        x = BatchNormalization(axis=3, epsilon=0.00001, name='bn1')(x)\n",
    "        x = Activation('relu')(x)\n",
    "        x = ZeroPadding2D(padding=(1, 1))(x)\n",
    "        x = MaxPooling2D(pool_size=3, strides=2)(x)\n",
    "        x = Lambda(LRN2D, name='lrn_1')(x)\n",
    "        x = Conv2D(64, (1, 1), name='conv2')(x)\n",
    "        x = BatchNormalization(axis=3, epsilon=0.00001, name='bn2')(x)\n",
    "        x = Activation('relu')(x)\n",
    "        x = ZeroPadding2D(padding=(1, 1))(x)\n",
    "        x = Conv2D(192, (3, 3), name='conv3')(x)\n",
    "        x = BatchNormalization(axis=3, epsilon=0.00001, name='bn3')(x)\n",
    "        x = Activation('relu')(x)\n",
    "        x = Lambda(LRN2D, name='lrn_2')(x)\n",
    "        x = ZeroPadding2D(padding=(1, 1))(x)\n",
    "        x = MaxPooling2D(pool_size=3, strides=2)(x)\n",
    "\n",
    "        # Inception3a\n",
    "        inception_3a_3x3 = Conv2D(96, (1, 1), name='inception_3a_3x3_conv1')(x)\n",
    "        inception_3a_3x3 = BatchNormalization(axis=3, epsilon=0.00001, name='inception_3a_3x3_bn1')(inception_3a_3x3)\n",
    "        inception_3a_3x3 = Activation('relu')(inception_3a_3x3)\n",
    "        inception_3a_3x3 = ZeroPadding2D(padding=(1, 1))(inception_3a_3x3)\n",
    "        inception_3a_3x3 = Conv2D(128, (3, 3), name='inception_3a_3x3_conv2')(inception_3a_3x3)\n",
    "        inception_3a_3x3 = BatchNormalization(axis=3, epsilon=0.00001, name='inception_3a_3x3_bn2')(inception_3a_3x3)\n",
    "        inception_3a_3x3 = Activation('relu')(inception_3a_3x3)\n",
    "\n",
    "        inception_3a_5x5 = Conv2D(16, (1, 1), name='inception_3a_5x5_conv1')(x)\n",
    "        inception_3a_5x5 = BatchNormalization(axis=3, epsilon=0.00001, name='inception_3a_5x5_bn1')(inception_3a_5x5)\n",
    "        inception_3a_5x5 = Activation('relu')(inception_3a_5x5)\n",
    "        inception_3a_5x5 = ZeroPadding2D(padding=(2, 2))(inception_3a_5x5)\n",
    "        inception_3a_5x5 = Conv2D(32, (5, 5), name='inception_3a_5x5_conv2')(inception_3a_5x5)\n",
    "        inception_3a_5x5 = BatchNormalization(axis=3, epsilon=0.00001, name='inception_3a_5x5_bn2')(inception_3a_5x5)\n",
    "        inception_3a_5x5 = Activation('relu')(inception_3a_5x5)\n",
    "\n",
    "        inception_3a_pool = MaxPooling2D(pool_size=3, strides=2)(x)\n",
    "        inception_3a_pool = Conv2D(32, (1, 1), name='inception_3a_pool_conv')(inception_3a_pool)\n",
    "        inception_3a_pool = BatchNormalization(axis=3, epsilon=0.00001, name='inception_3a_pool_bn')(inception_3a_pool)\n",
    "        inception_3a_pool = Activation('relu')(inception_3a_pool)\n",
    "        inception_3a_pool = ZeroPadding2D(padding=((3, 4), (3, 4)))(inception_3a_pool)\n",
    "\n",
    "        inception_3a_1x1 = Conv2D(64, (1, 1), name='inception_3a_1x1_conv')(x)\n",
    "        inception_3a_1x1 = BatchNormalization(axis=3, epsilon=0.00001, name='inception_3a_1x1_bn')(inception_3a_1x1)\n",
    "        inception_3a_1x1 = Activation('relu')(inception_3a_1x1)\n",
    "\n",
    "        inception_3a = concatenate([inception_3a_3x3, inception_3a_5x5, inception_3a_pool, inception_3a_1x1], axis=3)\n",
    "\n",
    "        # Inception3b\n",
    "        inception_3b_3x3 = Conv2D(96, (1, 1), name='inception_3b_3x3_conv1')(inception_3a)\n",
    "        inception_3b_3x3 = BatchNormalization(axis=3, epsilon=0.00001, name='inception_3b_3x3_bn1')(inception_3b_3x3)\n",
    "        inception_3b_3x3 = Activation('relu')(inception_3b_3x3)\n",
    "        inception_3b_3x3 = ZeroPadding2D(padding=(1, 1))(inception_3b_3x3)\n",
    "        inception_3b_3x3 = Conv2D(128, (3, 3), name='inception_3b_3x3_conv2')(inception_3b_3x3)\n",
    "        inception_3b_3x3 = BatchNormalization(axis=3, epsilon=0.00001, name='inception_3b_3x3_bn2')(inception_3b_3x3)\n",
    "        inception_3b_3x3 = Activation('relu')(inception_3b_3x3)\n",
    "\n",
    "        inception_3b_5x5 = Conv2D(32, (1, 1), name='inception_3b_5x5_conv1')(inception_3a)\n",
    "        inception_3b_5x5 = BatchNormalization(axis=3, epsilon=0.00001, name='inception_3b_5x5_bn1')(inception_3b_5x5)\n",
    "        inception_3b_5x5 = Activation('relu')(inception_3b_5x5)\n",
    "        inception_3b_5x5 = ZeroPadding2D(padding=(2, 2))(inception_3b_5x5)\n",
    "        inception_3b_5x5 = Conv2D(64, (5, 5), name='inception_3b_5x5_conv2')(inception_3b_5x5)\n",
    "        inception_3b_5x5 = BatchNormalization(axis=3, epsilon=0.00001, name='inception_3b_5x5_bn2')(inception_3b_5x5)\n",
    "        inception_3b_5x5 = Activation('relu')(inception_3b_5x5)\n",
    "\n",
    "        inception_3b_pool = Lambda(lambda x: x**2, name='power2_3b')(inception_3a)\n",
    "        inception_3b_pool = AveragePooling2D(pool_size=(3, 3), strides=(3, 3))(inception_3b_pool)\n",
    "        inception_3b_pool = Lambda(lambda x: x*9, name='mult9_3b')(inception_3b_pool)\n",
    "        inception_3b_pool = Lambda(lambda x: K.sqrt(x), name='sqrt_3b')(inception_3b_pool)\n",
    "        inception_3b_pool = Conv2D(64, (1, 1), name='inception_3b_pool_conv')(inception_3b_pool)\n",
    "        inception_3b_pool = BatchNormalization(axis=3, epsilon=0.00001, name='inception_3b_pool_bn')(inception_3b_pool)\n",
    "        inception_3b_pool = Activation('relu')(inception_3b_pool)\n",
    "        inception_3b_pool = ZeroPadding2D(padding=(4, 4))(inception_3b_pool)\n",
    "\n",
    "        inception_3b_1x1 = Conv2D(64, (1, 1), name='inception_3b_1x1_conv')(inception_3a)\n",
    "        inception_3b_1x1 = BatchNormalization(axis=3, epsilon=0.00001, name='inception_3b_1x1_bn')(inception_3b_1x1)\n",
    "        inception_3b_1x1 = Activation('relu')(inception_3b_1x1)\n",
    "\n",
    "        inception_3b = concatenate([inception_3b_3x3, inception_3b_5x5, inception_3b_pool, inception_3b_1x1], axis=3)\n",
    "\n",
    "        # Inception3c\n",
    "        inception_3c_3x3 = utils.conv2d_bn(inception_3b,\n",
    "                                           layer='inception_3c_3x3',\n",
    "                                           cv1_out=128,\n",
    "                                           cv1_filter=(1, 1),\n",
    "                                           cv2_out=256,\n",
    "                                           cv2_filter=(3, 3),\n",
    "                                           cv2_strides=(2, 2),\n",
    "                                           padding=(1, 1))\n",
    "\n",
    "        inception_3c_5x5 = utils.conv2d_bn(inception_3b,\n",
    "                                           layer='inception_3c_5x5',\n",
    "                                           cv1_out=32,\n",
    "                                           cv1_filter=(1, 1),\n",
    "                                           cv2_out=64,\n",
    "                                           cv2_filter=(5, 5),\n",
    "                                           cv2_strides=(2, 2),\n",
    "                                           padding=(2, 2))\n",
    "\n",
    "        inception_3c_pool = MaxPooling2D(pool_size=3, strides=2)(inception_3b)\n",
    "        inception_3c_pool = ZeroPadding2D(padding=((0, 1), (0, 1)))(inception_3c_pool)\n",
    "\n",
    "        inception_3c = concatenate([inception_3c_3x3, inception_3c_5x5, inception_3c_pool], axis=3)\n",
    "\n",
    "        #inception 4a\n",
    "        inception_4a_3x3 = utils.conv2d_bn(inception_3c,\n",
    "                                           layer='inception_4a_3x3',\n",
    "                                           cv1_out=96,\n",
    "                                           cv1_filter=(1, 1),\n",
    "                                           cv2_out=192,\n",
    "                                           cv2_filter=(3, 3),\n",
    "                                           cv2_strides=(1, 1),\n",
    "                                           padding=(1, 1))\n",
    "        inception_4a_5x5 = utils.conv2d_bn(inception_3c,\n",
    "                                           layer='inception_4a_5x5',\n",
    "                                           cv1_out=32,\n",
    "                                           cv1_filter=(1, 1),\n",
    "                                           cv2_out=64,\n",
    "                                           cv2_filter=(5, 5),\n",
    "                                           cv2_strides=(1, 1),\n",
    "                                           padding=(2, 2))\n",
    "\n",
    "        inception_4a_pool = Lambda(lambda x: x**2, name='power2_4a')(inception_3c)\n",
    "        inception_4a_pool = AveragePooling2D(pool_size=(3, 3), strides=(3, 3))(inception_4a_pool)\n",
    "        inception_4a_pool = Lambda(lambda x: x*9, name='mult9_4a')(inception_4a_pool)\n",
    "        inception_4a_pool = Lambda(lambda x: K.sqrt(x), name='sqrt_4a')(inception_4a_pool)\n",
    "        inception_4a_pool = utils.conv2d_bn(inception_4a_pool,\n",
    "                                           layer='inception_4a_pool',\n",
    "                                           cv1_out=128,\n",
    "                                           cv1_filter=(1, 1),\n",
    "                                           padding=(2, 2))\n",
    "        inception_4a_1x1 = utils.conv2d_bn(inception_3c,\n",
    "                                           layer='inception_4a_1x1',\n",
    "                                           cv1_out=256,\n",
    "                                           cv1_filter=(1, 1))\n",
    "        inception_4a = concatenate([inception_4a_3x3, inception_4a_5x5, inception_4a_pool, inception_4a_1x1], axis=3)\n",
    "\n",
    "        #inception4e\n",
    "        inception_4e_3x3 = utils.conv2d_bn(inception_4a,\n",
    "                                           layer='inception_4e_3x3',\n",
    "                                           cv1_out=160,\n",
    "                                           cv1_filter=(1, 1),\n",
    "                                           cv2_out=256,\n",
    "                                           cv2_filter=(3, 3),\n",
    "                                           cv2_strides=(2, 2),\n",
    "                                           padding=(1, 1))\n",
    "        inception_4e_5x5 = utils.conv2d_bn(inception_4a,\n",
    "                                           layer='inception_4e_5x5',\n",
    "                                           cv1_out=64,\n",
    "                                           cv1_filter=(1, 1),\n",
    "                                           cv2_out=128,\n",
    "                                           cv2_filter=(5, 5),\n",
    "                                           cv2_strides=(2, 2),\n",
    "                                           padding=(2, 2))\n",
    "        inception_4e_pool = MaxPooling2D(pool_size=3, strides=2)(inception_4a)\n",
    "        inception_4e_pool = ZeroPadding2D(padding=((0, 1), (0, 1)))(inception_4e_pool)\n",
    "\n",
    "        inception_4e = concatenate([inception_4e_3x3, inception_4e_5x5, inception_4e_pool], axis=3)\n",
    "\n",
    "        #inception5a\n",
    "        inception_5a_3x3 = utils.conv2d_bn(inception_4e,\n",
    "                                           layer='inception_5a_3x3',\n",
    "                                           cv1_out=96,\n",
    "                                           cv1_filter=(1, 1),\n",
    "                                           cv2_out=384,\n",
    "                                           cv2_filter=(3, 3),\n",
    "                                           cv2_strides=(1, 1),\n",
    "                                           padding=(1, 1))\n",
    "\n",
    "        inception_5a_pool = Lambda(lambda x: x**2, name='power2_5a')(inception_4e)\n",
    "        inception_5a_pool = AveragePooling2D(pool_size=(3, 3), strides=(3, 3))(inception_5a_pool)\n",
    "        inception_5a_pool = Lambda(lambda x: x*9, name='mult9_5a')(inception_5a_pool)\n",
    "        inception_5a_pool = Lambda(lambda x: K.sqrt(x), name='sqrt_5a')(inception_5a_pool)\n",
    "        inception_5a_pool = utils.conv2d_bn(inception_5a_pool,\n",
    "                                           layer='inception_5a_pool',\n",
    "                                           cv1_out=96,\n",
    "                                           cv1_filter=(1, 1),\n",
    "                                           padding=(1, 1))\n",
    "        inception_5a_1x1 = utils.conv2d_bn(inception_4e,\n",
    "                                           layer='inception_5a_1x1',\n",
    "                                           cv1_out=256,\n",
    "                                           cv1_filter=(1, 1))\n",
    "\n",
    "        inception_5a = concatenate([inception_5a_3x3, inception_5a_pool, inception_5a_1x1], axis=3)\n",
    "\n",
    "        #inception_5b\n",
    "        inception_5b_3x3 = utils.conv2d_bn(inception_5a,\n",
    "                                           layer='inception_5b_3x3',\n",
    "                                           cv1_out=96,\n",
    "                                           cv1_filter=(1, 1),\n",
    "                                           cv2_out=384,\n",
    "                                           cv2_filter=(3, 3),\n",
    "                                           cv2_strides=(1, 1),\n",
    "                                           padding=(1, 1))\n",
    "        inception_5b_pool = MaxPooling2D(pool_size=3, strides=2)(inception_5a)\n",
    "        inception_5b_pool = utils.conv2d_bn(inception_5b_pool,\n",
    "                                           layer='inception_5b_pool',\n",
    "                                           cv1_out=96,\n",
    "                                           cv1_filter=(1, 1))\n",
    "        inception_5b_pool = ZeroPadding2D(padding=(1, 1))(inception_5b_pool)\n",
    "\n",
    "        inception_5b_1x1 = utils.conv2d_bn(inception_5a,\n",
    "                                           layer='inception_5b_1x1',\n",
    "                                           cv1_out=256,\n",
    "                                           cv1_filter=(1, 1))\n",
    "        inception_5b = concatenate([inception_5b_3x3, inception_5b_pool, inception_5b_1x1], axis=3)\n",
    "\n",
    "        av_pool = AveragePooling2D(pool_size=(3, 3), strides=(1, 1))(inception_5b)\n",
    "        reshape_layer = Flatten()(av_pool)\n",
    "        dense_layer = Dense(128, name='dense_layer')(reshape_layer)\n",
    "        norm_layer = Lambda(lambda  x: K.l2_normalize(x, axis=1), name='norm_layer')(dense_layer)\n",
    "        \n",
    "        branch_model = Model(inputs=[myInput], outputs=norm_layer)\n",
    "        \n",
    "        return branch_model"
   ]
  },
  {
   "cell_type": "code",
   "execution_count": 9,
   "metadata": {},
   "outputs": [],
   "source": [
    "from keras.layers import Input, Conv2D, Lambda, merge"
   ]
  },
  {
   "cell_type": "code",
   "execution_count": 10,
   "metadata": {},
   "outputs": [],
   "source": [
    "def siamese_net():\n",
    "        \n",
    "        left_input = Input(shape=(None,128))\n",
    "        \n",
    "        right_input = Input(shape=(None,128))\n",
    "    \n",
    "        # Add a customized layer to compute the absolute difference between the encodings\n",
    "        L1_layer = Lambda(lambda x:K.abs(x[0] - x[1]))\n",
    "        L1_distance = L1_layer([left_input, right_input])\n",
    "        \n",
    "        # Add a dense layer with a sigmoid unit to generate the similarity score\n",
    "        prediction = Dense(1,activation='sigmoid')(L1_distance)\n",
    "        \n",
    "        # Connect the inputs with the outputs\n",
    "        siamese_net = Model(inputs=[left_input,right_input],outputs=prediction)\n",
    "\n",
    "        # return the model\n",
    "        return siamese_net"
   ]
  },
  {
   "cell_type": "code",
   "execution_count": 11,
   "metadata": {},
   "outputs": [
    {
     "name": "stderr",
     "output_type": "stream",
     "text": [
      "WARNING: Logging before flag parsing goes to stderr.\n",
      "W0502 13:48:59.085216 140597129176832 deprecation.py:506] From /home/monster/.conda/envs/tensorflow/lib/python3.6/site-packages/tensorflow/python/training/moving_averages.py:210: calling Zeros.__init__ (from tensorflow.python.ops.init_ops) with dtype is deprecated and will be removed in a future version.\n",
      "Instructions for updating:\n",
      "Call initializer instance with the dtype argument instead of passing it to the constructor\n"
     ]
    }
   ],
   "source": [
    "model = convonet()"
   ]
  },
  {
   "cell_type": "code",
   "execution_count": 12,
   "metadata": {},
   "outputs": [
    {
     "data": {
      "text/plain": [
       "(None, 128)"
      ]
     },
     "execution_count": 12,
     "metadata": {},
     "output_type": "execute_result"
    }
   ],
   "source": [
    "model.output_shape"
   ]
  },
  {
   "cell_type": "code",
   "execution_count": 13,
   "metadata": {},
   "outputs": [],
   "source": [
    "# Load weights from csv files (which was exported from Openface torch model)\n",
    "weights = utils.weights\n",
    "weights_dict = utils.load_weights()\n",
    "\n",
    "# Set layer weights of the model\n",
    "for name in weights:\n",
    "  if model.get_layer(name) != None:\n",
    "    model.get_layer(name).set_weights(weights_dict[name])\n",
    "  elif model.get_layer(name) != None:\n",
    "    model.get_layer(name).set_weights(weights_dict[name])"
   ]
  },
  {
   "cell_type": "code",
   "execution_count": 14,
   "metadata": {},
   "outputs": [],
   "source": [
    "def image_to_embedding(image, model):\n",
    "    #image = cv2.resize(image, (96, 96), interpolation=cv2.INTER_AREA) \n",
    "#     image = cv2.resize(image, (96, 96)) \n",
    "    img = image[...,::-1]\n",
    "    img = np.around(np.transpose(img, (0,1,2))/255.0, decimals=12)\n",
    "    x_train = np.array([img])\n",
    "    embedding = model.predict(x_train)\n",
    "    return embedding"
   ]
  },
  {
   "cell_type": "code",
   "execution_count": 15,
   "metadata": {},
   "outputs": [],
   "source": [
    "emb1_train = []\n",
    "for i in train_input1:\n",
    "    emb = image_to_embedding(i, model)\n",
    "    emb1_train.append(emb)\n",
    "emb1_train = np.array(emb1_train)\n",
    "\n",
    "emb2_train = []\n",
    "for i in train_input2:\n",
    "    emb = image_to_embedding(i, model)\n",
    "    emb2_train.append(emb)\n",
    "emb2_train = np.array(emb2_train)\n",
    "\n"
   ]
  },
  {
   "cell_type": "code",
   "execution_count": 16,
   "metadata": {},
   "outputs": [],
   "source": [
    "emb1_test = []\n",
    "for i in test_input1:\n",
    "    emb = image_to_embedding(i, model)\n",
    "    emb1_test.append(emb)\n",
    "emb1_test = np.array(emb1_test)\n",
    "\n",
    "emb2_test = []\n",
    "for i in test_input2:\n",
    "    emb = image_to_embedding(i, model)\n",
    "    emb2_test.append(emb)\n",
    "emb2_test = np.array(emb2_test)\n",
    "\n"
   ]
  },
  {
   "cell_type": "code",
   "execution_count": 17,
   "metadata": {},
   "outputs": [
    {
     "data": {
      "text/plain": [
       "((2200, 1, 128), (2200, 1, 128))"
      ]
     },
     "execution_count": 17,
     "metadata": {},
     "output_type": "execute_result"
    }
   ],
   "source": [
    "emb1_train.shape,emb2_train.shape"
   ]
  },
  {
   "cell_type": "code",
   "execution_count": 18,
   "metadata": {},
   "outputs": [
    {
     "data": {
      "text/plain": [
       "((1000, 1, 128), (1000, 1, 128))"
      ]
     },
     "execution_count": 18,
     "metadata": {},
     "output_type": "execute_result"
    }
   ],
   "source": [
    "emb1_test.shape,emb2_test.shape"
   ]
  },
  {
   "cell_type": "code",
   "execution_count": 19,
   "metadata": {},
   "outputs": [],
   "source": [
    "siamese_net1 = siamese_net()"
   ]
  },
  {
   "cell_type": "code",
   "execution_count": 20,
   "metadata": {},
   "outputs": [
    {
     "name": "stdout",
     "output_type": "stream",
     "text": [
      "__________________________________________________________________________________________________\n",
      "Layer (type)                    Output Shape         Param #     Connected to                     \n",
      "==================================================================================================\n",
      "input_2 (InputLayer)            (None, None, 128)    0                                            \n",
      "__________________________________________________________________________________________________\n",
      "input_3 (InputLayer)            (None, None, 128)    0                                            \n",
      "__________________________________________________________________________________________________\n",
      "lambda_1 (Lambda)               (None, None, 128)    0           input_2[0][0]                    \n",
      "                                                                 input_3[0][0]                    \n",
      "__________________________________________________________________________________________________\n",
      "dense_1 (Dense)                 (None, None, 1)      129         lambda_1[0][0]                   \n",
      "==================================================================================================\n",
      "Total params: 129\n",
      "Trainable params: 129\n",
      "Non-trainable params: 0\n",
      "__________________________________________________________________________________________________\n"
     ]
    }
   ],
   "source": [
    "siamese_net1.summary()"
   ]
  },
  {
   "cell_type": "code",
   "execution_count": 21,
   "metadata": {},
   "outputs": [],
   "source": [
    "from keras import optimizers\n",
    "\n",
    "sgd = optimizers.SGD(lr=0.01, decay=1e-6, momentum=0.9, nesterov=True)\n",
    "optimizer = optimizers.Adam(lr = 0.00006)"
   ]
  },
  {
   "cell_type": "code",
   "execution_count": 22,
   "metadata": {},
   "outputs": [],
   "source": [
    "siamese_net1.compile(loss=\"binary_crossentropy\",optimizer=sgd,metrics=['acc'])"
   ]
  },
  {
   "cell_type": "code",
   "execution_count": 23,
   "metadata": {},
   "outputs": [
    {
     "name": "stdout",
     "output_type": "stream",
     "text": [
      "Train on 2200 samples, validate on 1000 samples\n",
      "Epoch 1/50\n",
      "2200/2200 [==============================] - 1s 388us/step - loss: 0.6954 - acc: 0.4859 - val_loss: 0.6916 - val_acc: 0.5200\n",
      "Epoch 2/50\n",
      "2200/2200 [==============================] - 0s 91us/step - loss: 0.6924 - acc: 0.5068 - val_loss: 0.6898 - val_acc: 0.5430\n",
      "Epoch 3/50\n",
      "2200/2200 [==============================] - 0s 75us/step - loss: 0.6907 - acc: 0.5414 - val_loss: 0.6882 - val_acc: 0.5420\n",
      "Epoch 4/50\n",
      "2200/2200 [==============================] - 0s 77us/step - loss: 0.6891 - acc: 0.5436 - val_loss: 0.6866 - val_acc: 0.5710\n",
      "Epoch 5/50\n",
      "2200/2200 [==============================] - 0s 73us/step - loss: 0.6873 - acc: 0.5641 - val_loss: 0.6852 - val_acc: 0.5650\n",
      "Epoch 6/50\n",
      "2200/2200 [==============================] - 0s 75us/step - loss: 0.6857 - acc: 0.5773 - val_loss: 0.6838 - val_acc: 0.5890\n",
      "Epoch 7/50\n",
      "2200/2200 [==============================] - 0s 66us/step - loss: 0.6846 - acc: 0.5686 - val_loss: 0.6831 - val_acc: 0.5860\n",
      "Epoch 8/50\n",
      "2200/2200 [==============================] - 0s 71us/step - loss: 0.6833 - acc: 0.5759 - val_loss: 0.6814 - val_acc: 0.5880\n",
      "Epoch 9/50\n",
      "2200/2200 [==============================] - 0s 75us/step - loss: 0.6817 - acc: 0.5841 - val_loss: 0.6803 - val_acc: 0.5920\n",
      "Epoch 10/50\n",
      "2200/2200 [==============================] - 0s 81us/step - loss: 0.6809 - acc: 0.5827 - val_loss: 0.6792 - val_acc: 0.5920\n",
      "Epoch 11/50\n",
      "2200/2200 [==============================] - 0s 78us/step - loss: 0.6796 - acc: 0.5927 - val_loss: 0.6783 - val_acc: 0.5880\n",
      "Epoch 12/50\n",
      "2200/2200 [==============================] - 0s 71us/step - loss: 0.6788 - acc: 0.5918 - val_loss: 0.6774 - val_acc: 0.5850\n",
      "Epoch 13/50\n",
      "2200/2200 [==============================] - 0s 88us/step - loss: 0.6779 - acc: 0.5877 - val_loss: 0.6766 - val_acc: 0.5890\n",
      "Epoch 14/50\n",
      "2200/2200 [==============================] - 0s 97us/step - loss: 0.6769 - acc: 0.5918 - val_loss: 0.6759 - val_acc: 0.5870\n",
      "Epoch 15/50\n",
      "2200/2200 [==============================] - 0s 88us/step - loss: 0.6757 - acc: 0.5891 - val_loss: 0.6750 - val_acc: 0.5830\n",
      "Epoch 16/50\n",
      "2200/2200 [==============================] - 0s 70us/step - loss: 0.6750 - acc: 0.5927 - val_loss: 0.6743 - val_acc: 0.5850\n",
      "Epoch 17/50\n",
      "2200/2200 [==============================] - 0s 69us/step - loss: 0.6742 - acc: 0.5964 - val_loss: 0.6736 - val_acc: 0.5820\n",
      "Epoch 18/50\n",
      "2200/2200 [==============================] - 0s 69us/step - loss: 0.6734 - acc: 0.5900 - val_loss: 0.6731 - val_acc: 0.5810\n",
      "Epoch 19/50\n",
      "2200/2200 [==============================] - 0s 70us/step - loss: 0.6728 - acc: 0.6014 - val_loss: 0.6725 - val_acc: 0.5810\n",
      "Epoch 20/50\n",
      "2200/2200 [==============================] - 0s 68us/step - loss: 0.6721 - acc: 0.5959 - val_loss: 0.6719 - val_acc: 0.5840\n",
      "Epoch 21/50\n",
      "2200/2200 [==============================] - 0s 72us/step - loss: 0.6715 - acc: 0.5941 - val_loss: 0.6718 - val_acc: 0.5830\n",
      "Epoch 22/50\n",
      "2200/2200 [==============================] - 0s 86us/step - loss: 0.6708 - acc: 0.5914 - val_loss: 0.6708 - val_acc: 0.5870\n",
      "Epoch 23/50\n",
      "2200/2200 [==============================] - 0s 86us/step - loss: 0.6702 - acc: 0.6014 - val_loss: 0.6705 - val_acc: 0.5820\n",
      "Epoch 24/50\n",
      "2200/2200 [==============================] - 0s 84us/step - loss: 0.6697 - acc: 0.5995 - val_loss: 0.6701 - val_acc: 0.5820\n",
      "Epoch 25/50\n",
      "2200/2200 [==============================] - 0s 86us/step - loss: 0.6689 - acc: 0.5955 - val_loss: 0.6695 - val_acc: 0.5830\n",
      "Epoch 26/50\n",
      "2200/2200 [==============================] - 0s 91us/step - loss: 0.6685 - acc: 0.5955 - val_loss: 0.6693 - val_acc: 0.5880\n",
      "Epoch 27/50\n",
      "2200/2200 [==============================] - 0s 71us/step - loss: 0.6680 - acc: 0.5977 - val_loss: 0.6688 - val_acc: 0.5890\n",
      "Epoch 28/50\n",
      "2200/2200 [==============================] - 0s 64us/step - loss: 0.6675 - acc: 0.6000 - val_loss: 0.6684 - val_acc: 0.5850\n",
      "Epoch 29/50\n",
      "2200/2200 [==============================] - 0s 61us/step - loss: 0.6670 - acc: 0.5982 - val_loss: 0.6681 - val_acc: 0.5840\n",
      "Epoch 30/50\n",
      "2200/2200 [==============================] - 0s 60us/step - loss: 0.6670 - acc: 0.6009 - val_loss: 0.6680 - val_acc: 0.5840\n",
      "Epoch 31/50\n",
      "2200/2200 [==============================] - 0s 70us/step - loss: 0.6662 - acc: 0.6027 - val_loss: 0.6674 - val_acc: 0.5830\n",
      "Epoch 32/50\n",
      "2200/2200 [==============================] - 0s 85us/step - loss: 0.6658 - acc: 0.6005 - val_loss: 0.6671 - val_acc: 0.5820\n",
      "Epoch 33/50\n",
      "2200/2200 [==============================] - 0s 88us/step - loss: 0.6652 - acc: 0.5977 - val_loss: 0.6669 - val_acc: 0.5830\n",
      "Epoch 34/50\n",
      "2200/2200 [==============================] - 0s 91us/step - loss: 0.6652 - acc: 0.5945 - val_loss: 0.6667 - val_acc: 0.5810\n",
      "Epoch 35/50\n",
      "2200/2200 [==============================] - 0s 79us/step - loss: 0.6646 - acc: 0.6005 - val_loss: 0.6664 - val_acc: 0.5820\n",
      "Epoch 36/50\n",
      "2200/2200 [==============================] - 0s 87us/step - loss: 0.6643 - acc: 0.6045 - val_loss: 0.6661 - val_acc: 0.5850\n",
      "Epoch 37/50\n",
      "2200/2200 [==============================] - 0s 88us/step - loss: 0.6640 - acc: 0.6045 - val_loss: 0.6659 - val_acc: 0.5830\n",
      "Epoch 38/50\n",
      "2200/2200 [==============================] - 0s 80us/step - loss: 0.6638 - acc: 0.6041 - val_loss: 0.6657 - val_acc: 0.5810\n",
      "Epoch 39/50\n",
      "2200/2200 [==============================] - 0s 88us/step - loss: 0.6634 - acc: 0.6014 - val_loss: 0.6655 - val_acc: 0.5860\n",
      "Epoch 40/50\n",
      "2200/2200 [==============================] - 0s 88us/step - loss: 0.6629 - acc: 0.6055 - val_loss: 0.6654 - val_acc: 0.5880\n",
      "Epoch 41/50\n",
      "2200/2200 [==============================] - 0s 73us/step - loss: 0.6628 - acc: 0.6005 - val_loss: 0.6651 - val_acc: 0.5820\n",
      "Epoch 42/50\n",
      "2200/2200 [==============================] - 0s 81us/step - loss: 0.6624 - acc: 0.6091 - val_loss: 0.6652 - val_acc: 0.5830\n",
      "Epoch 43/50\n",
      "2200/2200 [==============================] - 0s 73us/step - loss: 0.6622 - acc: 0.6000 - val_loss: 0.6649 - val_acc: 0.5820\n",
      "Epoch 44/50\n",
      "2200/2200 [==============================] - 0s 67us/step - loss: 0.6620 - acc: 0.6064 - val_loss: 0.6645 - val_acc: 0.5830\n",
      "Epoch 45/50\n",
      "2200/2200 [==============================] - 0s 67us/step - loss: 0.6613 - acc: 0.6059 - val_loss: 0.6644 - val_acc: 0.5860\n",
      "Epoch 46/50\n",
      "2200/2200 [==============================] - 0s 86us/step - loss: 0.6611 - acc: 0.6055 - val_loss: 0.6643 - val_acc: 0.5790\n",
      "Epoch 47/50\n",
      "2200/2200 [==============================] - 0s 91us/step - loss: 0.6611 - acc: 0.6014 - val_loss: 0.6641 - val_acc: 0.5820\n",
      "Epoch 48/50\n",
      "2200/2200 [==============================] - 0s 76us/step - loss: 0.6606 - acc: 0.6068 - val_loss: 0.6640 - val_acc: 0.5860\n",
      "Epoch 49/50\n",
      "2200/2200 [==============================] - 0s 69us/step - loss: 0.6607 - acc: 0.6000 - val_loss: 0.6638 - val_acc: 0.5840\n",
      "Epoch 50/50\n",
      "2200/2200 [==============================] - 0s 65us/step - loss: 0.6601 - acc: 0.6005 - val_loss: 0.6637 - val_acc: 0.5810\n"
     ]
    }
   ],
   "source": [
    "history = siamese_net1.fit([emb1_train,emb2_train],y_train,\n",
    "                    epochs=50,batch_size=32\n",
    "                    ,validation_data=([emb1_test,emb2_test],y_test))"
   ]
  },
  {
   "cell_type": "code",
   "execution_count": 24,
   "metadata": {},
   "outputs": [
    {
     "data": {
      "text/plain": [
       "dict_keys(['val_loss', 'val_acc', 'loss', 'acc'])"
      ]
     },
     "execution_count": 24,
     "metadata": {},
     "output_type": "execute_result"
    }
   ],
   "source": [
    "history.history.keys()"
   ]
  },
  {
   "cell_type": "code",
   "execution_count": 25,
   "metadata": {},
   "outputs": [
    {
     "data": {
      "image/png": "[encoded data removed]",
      "text/plain": [
       "<Figure size 576x576 with 2 Axes>"
      ]
     },
     "metadata": {
      "needs_background": "light"
     },
     "output_type": "display_data"
    }
   ],
   "source": [
    "acc = history.history['acc']\n",
    "val_acc = history.history['val_acc']\n",
    "\n",
    "loss = history.history['loss']\n",
    "val_loss = history.history['val_loss']\n",
    "\n",
    "plt.figure(figsize=(8, 8))\n",
    "plt.subplot(2, 1, 1)\n",
    "plt.plot(acc, label='Training Accuracy')\n",
    "plt.plot(val_acc, label='Validation Accuracy')\n",
    "plt.legend(loc='lower right')\n",
    "plt.ylabel('Accuracy')\n",
    "plt.ylim([min(plt.ylim()),1])\n",
    "plt.title('Training and Validation Accuracy')\n",
    "\n",
    "plt.subplot(2, 1, 2)\n",
    "plt.plot(loss, label='Training Loss')\n",
    "plt.plot(val_loss, label='Validation Loss')\n",
    "plt.legend(loc='upper right')\n",
    "plt.ylabel('Cross Entropy')\n",
    "plt.ylim([0,1.0])\n",
    "plt.title('Training and Validation Loss')\n",
    "plt.xlabel('epoch')\n",
    "plt.show()"
   ]
  }
 ],
 "metadata": {
  "kernelspec": {
   "display_name": "tensorflow",
   "language": "python",
   "name": "tensorflow"
  },
  "language_info": {
   "codemirror_mode": {
    "name": "ipython",
    "version": 3
   },
   "file_extension": ".py",
   "mimetype": "text/x-python",
   "name": "python",
   "nbconvert_exporter": "python",
   "pygments_lexer": "ipython3",
   "version": "3.6.6"
  }
 },
 "nbformat": 4,
 "nbformat_minor": 2
}
